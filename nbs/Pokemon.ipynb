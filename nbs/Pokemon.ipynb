{
 "cells": [
  {
   "cell_type": "markdown",
   "metadata": {},
   "source": [
    "# Pokemon TCG card generator\n",
    "\n",
    "- Downloads and saves card data from pokemontcg.io with python sdk, reformats it as YAML\n",
    "- Uses keras lstm example to generate card data\n",
    "\n",
    "## Load card data"
   ]
  },
  {
   "cell_type": "code",
   "execution_count": 2,
   "metadata": {
    "collapsed": true
   },
   "outputs": [],
   "source": [
    "# imports\n",
    "import yaml, json, os, random\n",
    "from pokemontcgsdk import Card, Type, Subtype"
   ]
  },
  {
   "cell_type": "raw",
   "metadata": {
    "collapsed": true
   },
   "source": [
    "cards_full = Card.all()\n",
    "print('-- Cards loaded --')\n",
    "keys = ['name', 'subtype', 'supertype', 'ability', 'ancient_trait', 'hp', 'rarity',\n",
    "        'retreat_cost', 'text', 'types', 'attacks', 'weaknesses', 'resistances']\n",
    "cards = [{key:getattr(card,key) for key in keys} for card in cards_full]"
   ]
  },
  {
   "cell_type": "code",
   "execution_count": 4,
   "metadata": {
    "collapsed": true
   },
   "outputs": [],
   "source": [
    "data_dir = '/home/ubuntu/fastai-data/pokemon'"
   ]
  },
  {
   "cell_type": "raw",
   "metadata": {
    "collapsed": true
   },
   "source": [
    "# save data\n",
    "with open(os.path.join(data_dir,'cards.json'), 'w+') as f:\n",
    "     json.dump(cards, f)"
   ]
  },
  {
   "cell_type": "raw",
   "metadata": {
    "collapsed": true
   },
   "source": [
    "# augment data\n",
    "with open(os.path.join(data_dir,'cards.json')) as f:\n",
    "     cards = json.load(f)\n",
    "        \n",
    "print(cards[0])\n",
    "        \n",
    "cards.extend(random.sample(cards, len(cards)))\n",
    "cards.extend(random.sample(cards, len(cards)))"
   ]
  },
  {
   "cell_type": "code",
   "execution_count": 12,
   "metadata": {
    "collapsed": true
   },
   "outputs": [],
   "source": [
    "alphabet = 'abcdefghijklmnopqrstuvwxyz'\n",
    "type_char = 'cddryifglmpw'\n",
    "subtypes = Subtype.all()\n",
    "types = Type.all()"
   ]
  },
  {
   "cell_type": "code",
   "execution_count": 79,
   "metadata": {},
   "outputs": [
    {
     "name": "stdout",
     "output_type": "stream",
     "text": [
      "{'rarity': 'Common', 'name': 'Shroomish', 'resistances': None, 'ancient_trait': None, 'subtype': 'Basic', 'types': ['Grass'], 'hp': '60', 'ability': None, 'attacks': [{'text': \"Your opponent's Active Pokémon is now Asleep.\", 'name': 'Spore', 'cost': ['Colorless'], 'convertedEnergyCost': 1, 'damage': ''}], 'weaknesses': [{'type': 'Fire', 'value': 'x2'}], 'supertype': 'Pokémon', 'text': None, 'retreat_cost': ['Colorless']}\n"
     ]
    }
   ],
   "source": [
    "with open(os.path.join(data_dir,'cards.json')) as f:\n",
    "     cards = json.load(f)\n",
    "        \n",
    "print(cards[0])"
   ]
  },
  {
   "cell_type": "code",
   "execution_count": 85,
   "metadata": {
    "collapsed": true
   },
   "outputs": [],
   "source": [
    "def type_to_char(t_list):\n",
    "    if t_list:\n",
    "        return ''.join([type_char[types.index(t)] for t in t_list if t in types])\n",
    "    else:\n",
    "        return ''\n",
    "\n",
    "def singlify(text, name=None):\n",
    "    if text:\n",
    "        text = ''.join(text) if isinstance(text, list) else text\n",
    "        if name:\n",
    "            text = text.replace(name, '@')\n",
    "        return text\n",
    "    else:\n",
    "        return ''\n",
    "\n",
    "with open(os.path.join(data_dir,'cards.txt'), 'w+') as f:\n",
    "    for card in cards:\n",
    "        lines = ['\\n']\n",
    "        lines.append('|'.join([card['supertype'][0],\n",
    "                alphabet[subtypes.index(card['subtype'])] if card['subtype'] else '',\n",
    "                card['rarity'][0] if card['rarity'] else '',\n",
    "                type_to_char(card['types']),\n",
    "                type_char[types.index(card['weaknesses'][0]['type'])]+('^'*int(card['weaknesses'][0]['value'][1]) if '0' in card['weaknesses'][0]['value'] else 'x') if card['weaknesses'] else '',     \n",
    "                type_char[types.index(card['resistances'][0]['type'])]+('^'*int(card['resistances'][0]['value'][1]) if '0' in card['resistances'][0]['value'] else 'x') if card['resistances'] else '',     \n",
    "                '^'*(int(card['hp'])//10) if card['hp'] and card['hp'].isdigit() else '',\n",
    "                type_to_char(card['retreat_cost']),\n",
    "                singlify(card['name']), singlify(card['text'],name=card['name'])]))\n",
    "        if card['ability']:\n",
    "            lines.append('|'.join(['x', card['ability']['name'], singlify(card['ability']['text'],name=card['name'])]))\n",
    "        if card['ancient_trait']:\n",
    "            lines.append('|'.join(['y', card['ancient_trait']['name'], singlify(card['ancient_trait']['text'],name=card['name'])]))\n",
    "        if card['attacks'] and card['attacks']:\n",
    "            for attack in card['attacks']:\n",
    "                lines.append('|'.join(['z', type_to_char(attack['cost']) if 'cost' in attack else '', str(attack['damage']), singlify(attack['name']), singlify(attack['text'],name=card['name'])]))\n",
    "        for line in lines:\n",
    "            f.write(line+'\\n')\n",
    "            "
   ]
  },
  {
   "cell_type": "raw",
   "metadata": {
    "collapsed": true
   },
   "source": [
    "class ExplicitDumper(yaml.SafeDumper):\n",
    "    def ignore_aliases(self, data):\n",
    "        return True\n",
    "\n",
    "with open(os.path.join(data_dir,'cards.yml'), 'w+') as f:\n",
    "     yaml.dump(cards, f, allow_unicode=True, Dumper=ExplicitDumper)"
   ]
  },
  {
   "cell_type": "markdown",
   "metadata": {},
   "source": [
    "## Preprocessing\n",
    "\n",
    "- code is mostly copied from [fastai](https://github.com/fastai/courses/blob/master/deeplearning1/nbs/char-rnn.ipynb)"
   ]
  },
  {
   "cell_type": "code",
   "execution_count": 3,
   "metadata": {},
   "outputs": [
    {
     "name": "stderr",
     "output_type": "stream",
     "text": [
      "WARNING (theano.sandbox.cuda): The cuda backend is deprecated and will be removed in the next release (v0.10).  Please switch to the gpuarray backend. You can get more information about how to switch at this URL:\n",
      " https://github.com/Theano/Theano/wiki/Converting-to-the-new-gpu-back-end%28gpuarray%29\n",
      "\n",
      "Using gpu device 0: Tesla K80 (CNMeM is disabled, cuDNN 5103)\n"
     ]
    }
   ],
   "source": [
    "from theano.sandbox import cuda"
   ]
  },
  {
   "cell_type": "code",
   "execution_count": 44,
   "metadata": {
    "collapsed": true
   },
   "outputs": [],
   "source": [
    "# imports\n",
    "from keras.models import Sequential\n",
    "from keras.layers import *\n",
    "from keras.optimizers import Adam\n",
    "import numpy as np"
   ]
  },
  {
   "cell_type": "code",
   "execution_count": 91,
   "metadata": {},
   "outputs": [
    {
     "name": "stdout",
     "output_type": "stream",
     "text": [
      "corpus length: 2162780\n"
     ]
    }
   ],
   "source": [
    "# load text\n",
    "path = os.path.join(data_dir,'cards.txt')\n",
    "text = open(path).read().lower()[:]\n",
    "print('corpus length:', len(text))"
   ]
  },
  {
   "cell_type": "code",
   "execution_count": 92,
   "metadata": {},
   "outputs": [
    {
     "name": "stdout",
     "output_type": "stream",
     "text": [
      "\r\n",
      "P|k|R|y|mx|d^^|^^^^^^^^^^^^^^^^^^^^|cc|Sylveon-GX|When your Pokémon-GX is Knocked Out, your opponent takes 2 Prize cards.\r\n",
      "z|y||Magical Ribbon|Search your deck for up to 3 cards and put them into your hand. Then, shuffle your deck.\r\n",
      "z|ycc|110|Fairy Wind|\r\n",
      "z|ycc||Plea-GX|Put 2 of your opponent's Benched Pokémon and all cards attached to them into your opponent’s hand. (You can’t use more than 1 GX attack in a game.)\r\n",
      "\r\n",
      "\r\n",
      "P|k|R|r|yx||^^^^^^^^^^^^^^^^^^^^^^^^|cc|Kommo-o-GX|When your Pokémon-GX is Knocked Out, your opponent takes 2 Prize cards.\r\n",
      "z|c|30|Adamantine Press|During your opponent's next turn, this Pokémon takes 30 less damage from attacks (after applying Weakness and Resistance).\r\n",
      "z|licc|130|Shred|This attack's damage isn't affected by any effects on your opponent's Active Pokémon.\r\n",
      "z|licc|240|Ultra Uppercut-GX|(You can’t use more than 1 GX attack in a game.)\r\n",
      "\r\n",
      "\r\n",
      "P|k|R|c|ix||^^^^^^^^^^^^^^^^^^|cc|Drampa-GX|When your Pokémon-GX is Knocked Out, your opponent takes 2 Prize cards.\r\n",
      "z|c|20|Righteous Edge|Discard a Special Energy from your opponent's Active Pokémon.\r\n",
      "z|ccc|80+|Berserk|If your Benched Pokémon have any damage counters on them, this attack does 70 more damage.\r\n",
      "z|c||Big Wheel-GX|Shuffle your hand into your deck. Then, draw 10 cards. (You can’t use more than 1 GX attack in a game.)\r\n",
      "\r\n",
      "\r\n",
      "T|i|R||||||Hala|Shuffle your hand into your deck. If you have used your GX attack, draw 7 cards. If not, draw 4 cards.\r\n",
      "\r\n",
      "\r\n",
      "T|i|R||||||Hau|Draw 3 cards.\r\n",
      "\r\n",
      "\r\n",
      "T|i|R||||||Mallow|Search your deck for 2 cards, shuffle your deck, then put those cards on top of it in any order.\r\n"
     ]
    }
   ],
   "source": [
    "# check text\n",
    "!tail {path} -n26"
   ]
  },
  {
   "cell_type": "code",
   "execution_count": 93,
   "metadata": {},
   "outputs": [
    {
     "name": "stdout",
     "output_type": "stream",
     "text": [
      "total chars: 79\n"
     ]
    }
   ],
   "source": [
    "chars = sorted(list(set(text)))\n",
    "vocab_size = len(chars)\n",
    "print('total chars:', vocab_size)"
   ]
  },
  {
   "cell_type": "code",
   "execution_count": 94,
   "metadata": {},
   "outputs": [
    {
     "name": "stdout",
     "output_type": "stream",
     "text": [
      "\n",
      " !\"#&'()*+,-./0123456789:;?@[]^_abcdefghijklmnopqrstuvwxyz{|}~ ×éαβδωݎ—’•↓−♀♂＋\n"
     ]
    }
   ],
   "source": [
    "print(''.join(chars))"
   ]
  },
  {
   "cell_type": "code",
   "execution_count": 95,
   "metadata": {
    "collapsed": true
   },
   "outputs": [],
   "source": [
    "# create character embeddings\n",
    "char_indices = dict((c, i) for i, c in enumerate(chars))\n",
    "indices_char = dict((i, c) for i, c in enumerate(chars))\n",
    "\n",
    "idx = [char_indices[c] for c in text]"
   ]
  },
  {
   "cell_type": "markdown",
   "metadata": {},
   "source": [
    "## Create Model"
   ]
  },
  {
   "cell_type": "code",
   "execution_count": 96,
   "metadata": {
    "collapsed": true
   },
   "outputs": [],
   "source": [
    "maxlen = 40\n",
    "sentences = []\n",
    "next_chars = []\n",
    "for i in range(len(idx)-maxlen+1):\n",
    "    sentences.append(idx[i: i + maxlen])\n",
    "    next_chars.append(idx[i+1: i+maxlen+1])"
   ]
  },
  {
   "cell_type": "code",
   "execution_count": 97,
   "metadata": {},
   "outputs": [
    {
     "name": "stdout",
     "output_type": "stream",
     "text": [
      "nb sequences: 2162741\n",
      "nb chars: 2162741\n"
     ]
    }
   ],
   "source": [
    "print('nb sequences:', len(sentences))\n",
    "print('nb chars:', len(next_chars))"
   ]
  },
  {
   "cell_type": "code",
   "execution_count": 98,
   "metadata": {
    "collapsed": true
   },
   "outputs": [],
   "source": [
    "sentences = np.concatenate([[np.array(o)] for o in sentences[:-2]])\n",
    "next_chars = np.concatenate([[np.array(o)] for o in next_chars[:-2]])"
   ]
  },
  {
   "cell_type": "code",
   "execution_count": 101,
   "metadata": {
    "collapsed": true
   },
   "outputs": [],
   "source": [
    "n_fac = 24"
   ]
  },
  {
   "cell_type": "code",
   "execution_count": 100,
   "metadata": {},
   "outputs": [
    {
     "name": "stdout",
     "output_type": "stream",
     "text": [
      "_________________________________________________________________\n",
      "Layer (type)                 Output Shape              Param #   \n",
      "=================================================================\n",
      "embedding_2 (Embedding)      (None, 40, 24)            1896      \n",
      "_________________________________________________________________\n",
      "lstm_3 (LSTM)                (None, 40, 512)           1099776   \n",
      "_________________________________________________________________\n",
      "dropout_3 (Dropout)          (None, 40, 512)           0         \n",
      "_________________________________________________________________\n",
      "lstm_4 (LSTM)                (None, 40, 512)           2099200   \n",
      "_________________________________________________________________\n",
      "dropout_4 (Dropout)          (None, 40, 512)           0         \n",
      "_________________________________________________________________\n",
      "time_distributed_2 (TimeDist (None, 40, 79)            40527     \n",
      "_________________________________________________________________\n",
      "activation_2 (Activation)    (None, 40, 79)            0         \n",
      "=================================================================\n",
      "Total params: 3,241,399\n",
      "Trainable params: 3,241,399\n",
      "Non-trainable params: 0\n",
      "_________________________________________________________________\n"
     ]
    }
   ],
   "source": [
    "model=Sequential([\n",
    "        Embedding(vocab_size, n_fac, input_length=maxlen),\n",
    "        LSTM(units=512, input_shape=(n_fac,),return_sequences=True, dropout=0.2, recurrent_dropout=0.2,\n",
    "             implementation=2),\n",
    "        Dropout(0.2),\n",
    "        LSTM(512, return_sequences=True, dropout=0.2, recurrent_dropout=0.2,\n",
    "             implementation=2),\n",
    "        Dropout(0.2),\n",
    "        TimeDistributed(Dense(vocab_size)),\n",
    "        Activation('softmax')\n",
    "    ])\n",
    "model.compile(loss='sparse_categorical_crossentropy', optimizer=Adam(), metrics=['acc'])\n",
    "model.summary()"
   ]
  },
  {
   "cell_type": "markdown",
   "metadata": {},
   "source": [
    "## Train Model"
   ]
  },
  {
   "cell_type": "code",
   "execution_count": 225,
   "metadata": {
    "collapsed": true
   },
   "outputs": [],
   "source": [
    "from numpy.random import choice\n",
    "import random\n",
    "\n",
    "def print_example(length=800, temperature=1.2, mult=1.7):\n",
    "    seed_len=40\n",
    "    path = os.path.join(data_dir,'cards.txt')\n",
    "    text = open(path).read().lower()[:]\n",
    "    ind = random.randint(0,len(text)-seed_len-1)\n",
    "    seed_string = text[ind:ind+seed_len]\n",
    "    for i in range(length):\n",
    "        if (seed_string.split('\\n')[-1].count('|') == 8 or\n",
    "        seed_string.startswith(('x','y')) and seed_string.split('\\n')[-1].count('|') == 1 or\n",
    "        seed_string.startswith('z') and seed_string.split('\\n')[-1].count('|') == 3):\n",
    "            temp = temperature * mult # make names more creative\n",
    "        else:\n",
    "            temp = temperature\n",
    "        x=np.array([char_indices[c] for c in seed_string[-40:]])[np.newaxis,:]\n",
    "        preds = model.predict(x, verbose=0)[0][-1]\n",
    "        preds = np.log(preds) / temp\n",
    "        exp_preds = np.exp(preds)\n",
    "        preds = exp_preds / np.sum(exp_preds)\n",
    "        next_char = choice(chars, p=preds)\n",
    "        seed_string = seed_string + next_char\n",
    "    print(seed_string[seed_len:])"
   ]
  },
  {
   "cell_type": "code",
   "execution_count": 211,
   "metadata": {
    "collapsed": true
   },
   "outputs": [],
   "source": [
    "from keras.callbacks import ModelCheckpoint, ReduceLROnPlateau, LambdaCallback\n",
    "import h5py\n",
    "\n",
    "def print_callback(logs, epoch):\n",
    "    print_example()\n",
    "\n",
    "weight_path=\"weights-{epoch:02d}-{acc:.2f}.hdf5\"\n",
    "checkpoint = ModelCheckpoint(os.path.join(data_dir, weight_path),\n",
    "                             monitor='acc', verbose=1, save_best_only=True, mode='max')\n",
    "reduce_lr = ReduceLROnPlateau(monitor='loss', factor=0.2,\n",
    "                              patience=5, min_lr=0.000000001)\n",
    "printer = LambdaCallback(on_epoch_end=print_callback)\n",
    "\n",
    "callbacks_list = [printer, checkpoint, reduce_lr]"
   ]
  },
  {
   "cell_type": "code",
   "execution_count": 212,
   "metadata": {},
   "outputs": [
    {
     "name": "stdout",
     "output_type": "stream",
     "text": [
      "Epoch 1/50\n",
      "   1536/2162739 [..............................] - ETA: 3364s - loss: 0.4351 - acc: 0.8523"
     ]
    },
    {
     "ename": "KeyboardInterrupt",
     "evalue": "",
     "output_type": "error",
     "traceback": [
      "\u001b[0;31m------------------------------------------------------------\u001b[0m",
      "\u001b[0;31mKeyboardInterrupt\u001b[0m          Traceback (most recent call last)",
      "\u001b[0;32m<ipython-input-212-964816c70dd6>\u001b[0m in \u001b[0;36m<module>\u001b[0;34m()\u001b[0m\n\u001b[1;32m      4\u001b[0m                     \u001b[0mbatch_size\u001b[0m\u001b[0;34m=\u001b[0m\u001b[0;36m256\u001b[0m\u001b[0;34m,\u001b[0m\u001b[0;34m\u001b[0m\u001b[0m\n\u001b[1;32m      5\u001b[0m                     \u001b[0mepochs\u001b[0m\u001b[0;34m=\u001b[0m\u001b[0mnum_epochs\u001b[0m\u001b[0;34m,\u001b[0m\u001b[0;34m\u001b[0m\u001b[0m\n\u001b[0;32m----> 6\u001b[0;31m                     callbacks=callbacks_list)\n\u001b[0m",
      "\u001b[0;32m~/.local/lib/python3.5/site-packages/keras/models.py\u001b[0m in \u001b[0;36mfit\u001b[0;34m(self, x, y, batch_size, epochs, verbose, callbacks, validation_split, validation_data, shuffle, class_weight, sample_weight, initial_epoch, **kwargs)\u001b[0m\n\u001b[1;32m    865\u001b[0m                               \u001b[0mclass_weight\u001b[0m\u001b[0;34m=\u001b[0m\u001b[0mclass_weight\u001b[0m\u001b[0;34m,\u001b[0m\u001b[0;34m\u001b[0m\u001b[0m\n\u001b[1;32m    866\u001b[0m                               \u001b[0msample_weight\u001b[0m\u001b[0;34m=\u001b[0m\u001b[0msample_weight\u001b[0m\u001b[0;34m,\u001b[0m\u001b[0;34m\u001b[0m\u001b[0m\n\u001b[0;32m--> 867\u001b[0;31m                               initial_epoch=initial_epoch)\n\u001b[0m\u001b[1;32m    868\u001b[0m \u001b[0;34m\u001b[0m\u001b[0m\n\u001b[1;32m    869\u001b[0m     def evaluate(self, x, y, batch_size=32, verbose=1,\n",
      "\u001b[0;32m~/.local/lib/python3.5/site-packages/keras/engine/training.py\u001b[0m in \u001b[0;36mfit\u001b[0;34m(self, x, y, batch_size, epochs, verbose, callbacks, validation_split, validation_data, shuffle, class_weight, sample_weight, initial_epoch, steps_per_epoch, validation_steps, **kwargs)\u001b[0m\n\u001b[1;32m   1596\u001b[0m                               \u001b[0minitial_epoch\u001b[0m\u001b[0;34m=\u001b[0m\u001b[0minitial_epoch\u001b[0m\u001b[0;34m,\u001b[0m\u001b[0;34m\u001b[0m\u001b[0m\n\u001b[1;32m   1597\u001b[0m                               \u001b[0msteps_per_epoch\u001b[0m\u001b[0;34m=\u001b[0m\u001b[0msteps_per_epoch\u001b[0m\u001b[0;34m,\u001b[0m\u001b[0;34m\u001b[0m\u001b[0m\n\u001b[0;32m-> 1598\u001b[0;31m                               validation_steps=validation_steps)\n\u001b[0m\u001b[1;32m   1599\u001b[0m \u001b[0;34m\u001b[0m\u001b[0m\n\u001b[1;32m   1600\u001b[0m     def evaluate(self, x, y,\n",
      "\u001b[0;32m~/.local/lib/python3.5/site-packages/keras/engine/training.py\u001b[0m in \u001b[0;36m_fit_loop\u001b[0;34m(self, f, ins, out_labels, batch_size, epochs, verbose, callbacks, val_f, val_ins, shuffle, callback_metrics, initial_epoch, steps_per_epoch, validation_steps)\u001b[0m\n\u001b[1;32m   1181\u001b[0m                     \u001b[0mbatch_logs\u001b[0m\u001b[0;34m[\u001b[0m\u001b[0;34m'size'\u001b[0m\u001b[0;34m]\u001b[0m \u001b[0;34m=\u001b[0m \u001b[0mlen\u001b[0m\u001b[0;34m(\u001b[0m\u001b[0mbatch_ids\u001b[0m\u001b[0;34m)\u001b[0m\u001b[0;34m\u001b[0m\u001b[0m\n\u001b[1;32m   1182\u001b[0m                     \u001b[0mcallbacks\u001b[0m\u001b[0;34m.\u001b[0m\u001b[0mon_batch_begin\u001b[0m\u001b[0;34m(\u001b[0m\u001b[0mbatch_index\u001b[0m\u001b[0;34m,\u001b[0m \u001b[0mbatch_logs\u001b[0m\u001b[0;34m)\u001b[0m\u001b[0;34m\u001b[0m\u001b[0m\n\u001b[0;32m-> 1183\u001b[0;31m                     \u001b[0mouts\u001b[0m \u001b[0;34m=\u001b[0m \u001b[0mf\u001b[0m\u001b[0;34m(\u001b[0m\u001b[0mins_batch\u001b[0m\u001b[0;34m)\u001b[0m\u001b[0;34m\u001b[0m\u001b[0m\n\u001b[0m\u001b[1;32m   1184\u001b[0m                     \u001b[0;32mif\u001b[0m \u001b[0;32mnot\u001b[0m \u001b[0misinstance\u001b[0m\u001b[0;34m(\u001b[0m\u001b[0mouts\u001b[0m\u001b[0;34m,\u001b[0m \u001b[0mlist\u001b[0m\u001b[0;34m)\u001b[0m\u001b[0;34m:\u001b[0m\u001b[0;34m\u001b[0m\u001b[0m\n\u001b[1;32m   1185\u001b[0m                         \u001b[0mouts\u001b[0m \u001b[0;34m=\u001b[0m \u001b[0;34m[\u001b[0m\u001b[0mouts\u001b[0m\u001b[0;34m]\u001b[0m\u001b[0;34m\u001b[0m\u001b[0m\n",
      "\u001b[0;32m~/.local/lib/python3.5/site-packages/keras/backend/theano_backend.py\u001b[0m in \u001b[0;36m__call__\u001b[0;34m(self, inputs)\u001b[0m\n\u001b[1;32m   1220\u001b[0m     \u001b[0;32mdef\u001b[0m \u001b[0m__call__\u001b[0m\u001b[0;34m(\u001b[0m\u001b[0mself\u001b[0m\u001b[0;34m,\u001b[0m \u001b[0minputs\u001b[0m\u001b[0;34m)\u001b[0m\u001b[0;34m:\u001b[0m\u001b[0;34m\u001b[0m\u001b[0m\n\u001b[1;32m   1221\u001b[0m         \u001b[0;32massert\u001b[0m \u001b[0misinstance\u001b[0m\u001b[0;34m(\u001b[0m\u001b[0minputs\u001b[0m\u001b[0;34m,\u001b[0m \u001b[0;34m(\u001b[0m\u001b[0mlist\u001b[0m\u001b[0;34m,\u001b[0m \u001b[0mtuple\u001b[0m\u001b[0;34m)\u001b[0m\u001b[0;34m)\u001b[0m\u001b[0;34m\u001b[0m\u001b[0m\n\u001b[0;32m-> 1222\u001b[0;31m         \u001b[0;32mreturn\u001b[0m \u001b[0mself\u001b[0m\u001b[0;34m.\u001b[0m\u001b[0mfunction\u001b[0m\u001b[0;34m(\u001b[0m\u001b[0;34m*\u001b[0m\u001b[0minputs\u001b[0m\u001b[0;34m)\u001b[0m\u001b[0;34m\u001b[0m\u001b[0m\n\u001b[0m\u001b[1;32m   1223\u001b[0m \u001b[0;34m\u001b[0m\u001b[0m\n\u001b[1;32m   1224\u001b[0m \u001b[0;34m\u001b[0m\u001b[0m\n",
      "\u001b[0;32m~/.local/lib/python3.5/site-packages/theano/compile/function_module.py\u001b[0m in \u001b[0;36m__call__\u001b[0;34m(self, *args, **kwargs)\u001b[0m\n\u001b[1;32m    882\u001b[0m         \u001b[0;32mtry\u001b[0m\u001b[0;34m:\u001b[0m\u001b[0;34m\u001b[0m\u001b[0m\n\u001b[1;32m    883\u001b[0m             \u001b[0moutputs\u001b[0m \u001b[0;34m=\u001b[0m\u001b[0;31m\\\u001b[0m\u001b[0;34m\u001b[0m\u001b[0m\n\u001b[0;32m--> 884\u001b[0;31m                 \u001b[0mself\u001b[0m\u001b[0;34m.\u001b[0m\u001b[0mfn\u001b[0m\u001b[0;34m(\u001b[0m\u001b[0;34m)\u001b[0m \u001b[0;32mif\u001b[0m \u001b[0moutput_subset\u001b[0m \u001b[0;32mis\u001b[0m \u001b[0;32mNone\u001b[0m \u001b[0;32melse\u001b[0m\u001b[0;31m\\\u001b[0m\u001b[0;34m\u001b[0m\u001b[0m\n\u001b[0m\u001b[1;32m    885\u001b[0m                 \u001b[0mself\u001b[0m\u001b[0;34m.\u001b[0m\u001b[0mfn\u001b[0m\u001b[0;34m(\u001b[0m\u001b[0moutput_subset\u001b[0m\u001b[0;34m=\u001b[0m\u001b[0moutput_subset\u001b[0m\u001b[0;34m)\u001b[0m\u001b[0;34m\u001b[0m\u001b[0m\n\u001b[1;32m    886\u001b[0m         \u001b[0;32mexcept\u001b[0m \u001b[0mException\u001b[0m\u001b[0;34m:\u001b[0m\u001b[0;34m\u001b[0m\u001b[0m\n",
      "\u001b[0;32m~/.local/lib/python3.5/site-packages/theano/scan_module/scan_op.py\u001b[0m in \u001b[0;36mrval\u001b[0;34m(p, i, o, n, allow_gc)\u001b[0m\n\u001b[1;32m    987\u001b[0m         def rval(p=p, i=node_input_storage, o=node_output_storage, n=node,\n\u001b[1;32m    988\u001b[0m                  allow_gc=allow_gc):\n\u001b[0;32m--> 989\u001b[0;31m             \u001b[0mr\u001b[0m \u001b[0;34m=\u001b[0m \u001b[0mp\u001b[0m\u001b[0;34m(\u001b[0m\u001b[0mn\u001b[0m\u001b[0;34m,\u001b[0m \u001b[0;34m[\u001b[0m\u001b[0mx\u001b[0m\u001b[0;34m[\u001b[0m\u001b[0;36m0\u001b[0m\u001b[0;34m]\u001b[0m \u001b[0;32mfor\u001b[0m \u001b[0mx\u001b[0m \u001b[0;32min\u001b[0m \u001b[0mi\u001b[0m\u001b[0;34m]\u001b[0m\u001b[0;34m,\u001b[0m \u001b[0mo\u001b[0m\u001b[0;34m)\u001b[0m\u001b[0;34m\u001b[0m\u001b[0m\n\u001b[0m\u001b[1;32m    990\u001b[0m             \u001b[0;32mfor\u001b[0m \u001b[0mo\u001b[0m \u001b[0;32min\u001b[0m \u001b[0mnode\u001b[0m\u001b[0;34m.\u001b[0m\u001b[0moutputs\u001b[0m\u001b[0;34m:\u001b[0m\u001b[0;34m\u001b[0m\u001b[0m\n\u001b[1;32m    991\u001b[0m                 \u001b[0mcompute_map\u001b[0m\u001b[0;34m[\u001b[0m\u001b[0mo\u001b[0m\u001b[0;34m]\u001b[0m\u001b[0;34m[\u001b[0m\u001b[0;36m0\u001b[0m\u001b[0;34m]\u001b[0m \u001b[0;34m=\u001b[0m \u001b[0;32mTrue\u001b[0m\u001b[0;34m\u001b[0m\u001b[0m\n",
      "\u001b[0;32m~/.local/lib/python3.5/site-packages/theano/scan_module/scan_op.py\u001b[0m in \u001b[0;36mp\u001b[0;34m(node, args, outs)\u001b[0m\n\u001b[1;32m    976\u001b[0m                                                 \u001b[0margs\u001b[0m\u001b[0;34m,\u001b[0m\u001b[0;34m\u001b[0m\u001b[0m\n\u001b[1;32m    977\u001b[0m                                                 \u001b[0mouts\u001b[0m\u001b[0;34m,\u001b[0m\u001b[0;34m\u001b[0m\u001b[0m\n\u001b[0;32m--> 978\u001b[0;31m                                                 self, node)\n\u001b[0m\u001b[1;32m    979\u001b[0m         \u001b[0;32mexcept\u001b[0m \u001b[0;34m(\u001b[0m\u001b[0mImportError\u001b[0m\u001b[0;34m,\u001b[0m \u001b[0mtheano\u001b[0m\u001b[0;34m.\u001b[0m\u001b[0mgof\u001b[0m\u001b[0;34m.\u001b[0m\u001b[0mcmodule\u001b[0m\u001b[0;34m.\u001b[0m\u001b[0mMissingGXX\u001b[0m\u001b[0;34m)\u001b[0m\u001b[0;34m:\u001b[0m\u001b[0;34m\u001b[0m\u001b[0m\n\u001b[1;32m    980\u001b[0m             \u001b[0mp\u001b[0m \u001b[0;34m=\u001b[0m \u001b[0mself\u001b[0m\u001b[0;34m.\u001b[0m\u001b[0mexecute\u001b[0m\u001b[0;34m\u001b[0m\u001b[0m\n",
      "\u001b[0;31mKeyboardInterrupt\u001b[0m: "
     ]
    }
   ],
   "source": [
    "num_epochs = 50\n",
    "history = model.fit(sentences,\n",
    "                    np.expand_dims(next_chars,-1),\n",
    "                    batch_size=256,\n",
    "                    epochs=num_epochs,\n",
    "                    callbacks=callbacks_list)"
   ]
  },
  {
   "cell_type": "markdown",
   "metadata": {},
   "source": [
    "## Process Output"
   ]
  },
  {
   "cell_type": "code",
   "execution_count": 260,
   "metadata": {
    "collapsed": true
   },
   "outputs": [],
   "source": [
    "%%capture generated_cards\n",
    "print_example(length=300000, temperature=1.1, mult=2.4)"
   ]
  },
  {
   "cell_type": "code",
   "execution_count": 261,
   "metadata": {
    "collapsed": true
   },
   "outputs": [],
   "source": [
    "with open(os.path.join(data_dir,'cards_generated.txt'), 'w+') as f:\n",
    "    f.write(generated_cards.stdout)"
   ]
  },
  {
   "cell_type": "markdown",
   "metadata": {},
   "source": [
    "At this point I redid the prior stuff with a premade tensorflow rnn model."
   ]
  },
  {
   "cell_type": "code",
   "execution_count": 44,
   "metadata": {},
   "outputs": [
    {
     "name": "stdout",
     "output_type": "stream",
     "text": [
      "Skipped attack\n",
      "Skipped card\n",
      "Skipped card\n",
      "Skipped card\n",
      "Skipped card\n",
      "Skipped card\n",
      "Skipped card\n",
      "Skipped card\n",
      "Skipped card\n",
      "Skipped card\n",
      "Skipped card\n",
      "Skipped card\n",
      "Skipped card\n",
      "Skipped card\n",
      "Skipped card\n",
      "Skipped card\n",
      "Skipped attack\n",
      "Skipped card\n",
      "Skipped card\n",
      "Skipped card\n",
      "Skipped card\n",
      "Skipped card\n",
      "Skipped card\n",
      "Skipped attack\n",
      "Skipped card\n",
      "Skipped card\n",
      "Skipped card\n",
      "Skipped card\n",
      "Skipped card\n",
      "Skipped card\n",
      "Skipped card\n",
      "Skipped card\n",
      "Skipped card\n",
      "Skipped card\n",
      "Skipped card\n",
      "Skipped card\n",
      "Skipped card\n",
      "Skipped card\n",
      "Skipped card\n",
      "Skipped card\n",
      "Skipped card\n",
      "Skipped card\n",
      "Skipped card\n",
      "Skipped card\n",
      "Skipped card\n",
      "Skipped card\n",
      "Skipped card\n",
      "Skipped card\n",
      "Skipped card\n",
      "Skipped card\n",
      "Skipped card\n",
      "Skipped card\n",
      "Skipped card\n",
      "Skipped card\n",
      "Skipped card\n"
     ]
    }
   ],
   "source": [
    "alphabet = 'abcdefghijklmnopqrstuvwxyz'\n",
    "type_char = 'cddryifglmpw'\n",
    "subtypes = Subtype.all()\n",
    "types = Type.all()\n",
    "supertypes = ('Pokémon', 'Energy', 'Trainer')\n",
    "rarities = ('Common', 'Uncommon', 'Rare')\n",
    "old_names = [c.name.lower() for c in Card.all()]\n",
    "\n",
    "def char_to_type(chars):\n",
    "    if chars and len(chars) > 0:\n",
    "        return [types[type_char.index(char)] for char in chars]\n",
    "    else:\n",
    "        return None\n",
    "\n",
    "cards = []\n",
    "card = None\n",
    "with open(os.path.join(data_dir,'cards_generated_tf.txt')) as f:\n",
    "    for line in f:\n",
    "        line = line.split('|')\n",
    "        if line[0] in ('P','E','T'):\n",
    "            if card and card['name'].lower().rstrip() not in old_names:\n",
    "                cards.append(card)\n",
    "            try:\n",
    "                card = {'supertype': supertypes[('P','E','T').index(line[0])],\n",
    "                        'subtype': subtypes[alphabet.index(line[1])] if line[1] else None,\n",
    "                        'rarity': [r for r in rarities if r.startswith(line[2].upper())][0] if line[2] else None,\n",
    "                        'types': char_to_type(line[3]),\n",
    "                        'weaknesses':\n",
    "                        {'type': types[type_char.index(line[4][0])], 'value': '×2' if line[4][1] == 'x' else '-'+str(len(line[4])-1)+'0'} if line[4] else None,\n",
    "                        'resistances':\n",
    "                        {'type': types[type_char.index(line[5][0])], 'value': '×2' if line[5][1] == 'x' else '-'+str(len(line[5])-1)+'0'} if line[5] else None,\n",
    "                        'hp': len(line[6])*10 if line[6] else None,\n",
    "                        'retreat_cost': char_to_type(line[7]),\n",
    "                        'name': line[8].rstrip(), 'text': line[9].replace('@',line[8]).rstrip() if len(line) > 9 else None}\n",
    "            except:\n",
    "                card = None\n",
    "                print('Skipped card')\n",
    "        elif line[0] == 'x' and card and card['supertype'] == 'Pokémon':\n",
    "            try:\n",
    "                card['ability'] = {'name':line[1].rstrip(), 'text':line[2].replace('@',card['name']).rstrip() if len(line) > 2 else None}\n",
    "            except:\n",
    "                print('Skipped ability')\n",
    "        elif line[0] == 'y' and card and card['supertype'] == 'Pokémon':\n",
    "            try:\n",
    "                card['ancient_trait'] = {'name':line[1].rstrip(), 'text':line[2].replace('@',card['name']).rstrip() if len(line) > 2 else None}\n",
    "            except:\n",
    "                print('Skipped trait')\n",
    "        elif line[0] == 'z' and card and card['supertype'] == 'Pokémon':\n",
    "            try:\n",
    "                card.setdefault('attacks', []).append({'cost': char_to_type(line[1]),\n",
    "                                                       'damage': line[2],\n",
    "                                                       'name': line[3].rstrip(),\n",
    "                                                       'text': line[4].replace('@',card['name']).rstrip() if len(line) > 4 else None})\n",
    "            except:\n",
    "                print('Skipped attack')\n",
    "                                     "
   ]
  },
  {
   "cell_type": "code",
   "execution_count": 45,
   "metadata": {},
   "outputs": [],
   "source": [
    "class ExplicitDumper(yaml.SafeDumper):\n",
    "    def ignore_aliases(self, data):\n",
    "        return True\n",
    "    \n",
    "with open('cards_generated_tf.yml', 'w+') as f:\n",
    "     yaml.dump(cards, f, allow_unicode=True, Dumper=ExplicitDumper, default_flow_style=False)"
   ]
  },
  {
   "cell_type": "code",
   "execution_count": 46,
   "metadata": {},
   "outputs": [
    {
     "data": {
      "text/html": [
       "<a href='cards_generated_tf.yml' target='_blank'>cards_generated_tf.yml</a><br>"
      ],
      "text/plain": [
       "/home/ubuntu/fastai-notes/nbs/cards_generated_tf.yml"
      ]
     },
     "execution_count": 46,
     "metadata": {},
     "output_type": "execute_result"
    }
   ],
   "source": [
    "from IPython.display import FileLink\n",
    "FileLink('cards_generated_tf.yml')"
   ]
  },
  {
   "cell_type": "code",
   "execution_count": null,
   "metadata": {
    "collapsed": true
   },
   "outputs": [],
   "source": []
  }
 ],
 "metadata": {
  "kernelspec": {
   "display_name": "Python 3",
   "language": "python",
   "name": "python3"
  },
  "language_info": {
   "codemirror_mode": {
    "name": "ipython",
    "version": 3
   },
   "file_extension": ".py",
   "mimetype": "text/x-python",
   "name": "python",
   "nbconvert_exporter": "python",
   "pygments_lexer": "ipython3",
   "version": "3.5.2"
  }
 },
 "nbformat": 4,
 "nbformat_minor": 2
}
