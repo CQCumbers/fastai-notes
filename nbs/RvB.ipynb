{
 "cells": [
  {
   "cell_type": "markdown",
   "metadata": {},
   "source": [
    "![Header](https://img00.deviantart.net/32dd/i/2015/117/7/c/redvsblue_chubbs_by_feathernotes-d461960.jpg)\n",
    "\n",
    "# Red vs. Blue Dialogue Generator (Sarge Chatbot)\n",
    "\n",
    "1. Scrape RvB transcripts from [RoosterTooths](http://roostertooths.com/transcripts.php)\n",
    "2. Train word based LSTM on scripts, starting from pretrained embeddings\n",
    "3. Predict Sarge dialogue by priming with the conversor's dialogue added to some random dialogue\n",
    "\n",
    "## Scrape Transcripts\n",
    "\n",
    " - Create empty scripts.txt file in appropriate directory beforehand"
   ]
  },
  {
   "cell_type": "code",
   "execution_count": 2,
   "metadata": {},
   "outputs": [],
   "source": [
    "from lxml import html\n",
    "import requests, os\n",
    "\n",
    "path = '/home/ubuntu/fastai-data/rvb/scripts.txt'\n",
    "path1 = '/home/ubuntu/fastai-data/rvb/scripts1.txt'\n",
    "path2 = '/home/ubuntu/fastai-data/rvb/scripts2.txt'"
   ]
  },
  {
   "cell_type": "code",
   "execution_count": null,
   "metadata": {},
   "outputs": [],
   "source": [
    "# scrape rooster tooths for RvB scripts\n",
    "def scrape():\n",
    "    with open(path1, 'w') as f:\n",
    "        for i in [x for x in range(347)]:\n",
    "            page = requests.get('http://roostertooths.com/transcripts.php?eid={}'.format(i+1))\n",
    "            tree = html.fromstring(page.content)\n",
    "            lines = []\n",
    "            f.write('\\n\\n'+tree.xpath('//p[@class=\"breadcrumbs\"]/a//text()')[1]\n",
    "                  +'\\n'+tree.xpath('//h1//text()')[0]+'\\n\\n')\n",
    "            for row in tree.xpath('//table[@class=\"script\"]/tr'):\n",
    "                f.write(''.join(row.xpath('.//td//text()'))+'\\n')\n",
    "\n",
    "#scrape()"
   ]
  },
  {
   "cell_type": "code",
   "execution_count": null,
   "metadata": {},
   "outputs": [],
   "source": [
    "# scrate seinology for seinfeld scripts, to augment data\n",
    "def scrape2():\n",
    "    with open(path2, 'w') as f:\n",
    "        for i in [x for x in range(80)]:\n",
    "            page = requests.get('http://www.seinology.com/scripts/script-{}.shtml'.format(70+i))\n",
    "            if page.status_code == 200:\n",
    "                tree = html.fromstring(page.content)\n",
    "                lines = []\n",
    "                f.write('\\n\\n'+tree.xpath('//p//text()')[27]+'\\n')\n",
    "                f.write('\\n'.join([l.strip().replace(': ', ':') for l in ''.join(tree.xpath('//p//text()')).split(\n",
    "                    '============')[-1].split('\\n')\n",
    "                    if (len(l.strip()) > 0 and not l.strip()[0] in ['(','[','='])]))\n",
    "            else:\n",
    "                print('script '+str(70+i)+' not found')\n",
    "\n",
    "#scrape2()"
   ]
  },
  {
   "cell_type": "markdown",
   "metadata": {},
   "source": [
    "## Prepare Text"
   ]
  },
  {
   "cell_type": "code",
   "execution_count": 3,
   "metadata": {},
   "outputs": [],
   "source": [
    "# imports\n",
    "from keras.models import Sequential\n",
    "from keras.layers import *\n",
    "from keras.optimizers import Nadam\n",
    "import numpy as np\n",
    "from IPython.display import FileLink"
   ]
  },
  {
   "cell_type": "code",
   "execution_count": null,
   "metadata": {},
   "outputs": [],
   "source": [
    "# load text\n",
    "text1 = open(path1).read()[:]\n",
    "text2 = open(path2).read()[:]\n",
    "try:\n",
    "    text = open(path).read()[:]\n",
    "except:\n",
    "    text = text1 + '\\n' + text2 + '\\n' + text1\n",
    "    print('corpus 1 length:', len(text1))\n",
    "    print('corpus 2 length:', len(text2))\n",
    "    print('corpus length:', len(text))\n",
    "    print('')\n",
    "\n",
    "    lines = []\n",
    "    for line in text.split('\\n'):\n",
    "        # only get spoken lines from RvB\n",
    "        if line.startswith(' '):\n",
    "            line = line[1:]\n",
    "            # remove last line if captioned\n",
    "            if line.startswith('caption'):\n",
    "                line = lines[-1].split(':',1)[0].upper() + ':' + line.split(':',1)[1].lower()\n",
    "                lines = lines[:-1]\n",
    "            else:\n",
    "                line = line.split(':',1)[0].upper() + ':' + line.split(':',1)[1].lower()\n",
    "            lines.append(line)\n",
    "        # only get spoken lines from seinfeld\n",
    "        elif len(line.split(':',1)) == 2 and line.split(':',1)[0].isupper():\n",
    "            line = line.split(':',1)[0].upper() + ':' + line.split(':',1)[1].lower()\n",
    "            lines.append(line)\n",
    "\n",
    "    replacemap = {\"\\x91\": '\"', \"\\x93\": '\"', \"\\x92\": \"'\", \"\\x94\": \"'\",\n",
    "                  '[': '(', ']': ')', '\\x85': '\\n', '\\xa0': ' ', '\\x96': ''}\n",
    "    text = '\\n'.join(lines)\n",
    "    for k, v in replacemap.items():\n",
    "        text = text.replace(k, v)\n",
    "\n",
    "    with open(path, 'w') as f:\n",
    "        f.write(text)"
   ]
  },
  {
   "cell_type": "code",
   "execution_count": 5,
   "metadata": {},
   "outputs": [
    {
     "name": "stdout",
     "output_type": "stream",
     "text": [
      "'\\n !\"#$%&\\'()*+,-./0123456789:;<>?ABCDEFGHIJKLMNOPQRSTUVWXYZ_`abcdefghijklmnopqrstuvwxyz{}~¡¿àáèéíñóÿ'\n",
      "total chars: 99\n"
     ]
    }
   ],
   "source": [
    "chars = sorted(list(set(text)))\n",
    "print(repr(''.join(chars)))\n",
    "vocab_size = len(chars)\n",
    "print('total chars:', vocab_size)\n",
    "\n",
    "# create character embeddings\n",
    "char_indices = dict((c, i) for i, c in enumerate(chars))\n",
    "indices_char = dict((i, c) for i, c in enumerate(chars))\n",
    "\n",
    "idx = [char_indices[c] for c in text]"
   ]
  },
  {
   "cell_type": "code",
   "execution_count": 6,
   "metadata": {},
   "outputs": [],
   "source": [
    "maxlen = 128\n",
    "sentences = []\n",
    "next_chars = []\n",
    "for i in range(len(idx)-maxlen+1):\n",
    "    sentences.append(idx[i: i + maxlen])\n",
    "    next_chars.append(idx[i+1: i+maxlen+1])"
   ]
  },
  {
   "cell_type": "code",
   "execution_count": 7,
   "metadata": {},
   "outputs": [
    {
     "name": "stdout",
     "output_type": "stream",
     "text": [
      "nb sequences: 1619457\n",
      "nb chars: 1619457\n"
     ]
    }
   ],
   "source": [
    "print('nb sequences:', len(sentences))\n",
    "print('nb chars:', len(next_chars))"
   ]
  },
  {
   "cell_type": "code",
   "execution_count": 8,
   "metadata": {},
   "outputs": [],
   "source": [
    "sentences = np.concatenate([[np.array(o)] for o in sentences[:-2]])\n",
    "next_chars = np.concatenate([[np.array(o)] for o in next_chars[:-2]])"
   ]
  },
  {
   "cell_type": "code",
   "execution_count": 9,
   "metadata": {},
   "outputs": [],
   "source": [
    "n_fac = 128"
   ]
  },
  {
   "cell_type": "markdown",
   "metadata": {
    "collapsed": true
   },
   "source": [
    "## Train model"
   ]
  },
  {
   "cell_type": "code",
   "execution_count": 13,
   "metadata": {},
   "outputs": [
    {
     "name": "stdout",
     "output_type": "stream",
     "text": [
      "_________________________________________________________________\n",
      "Layer (type)                 Output Shape              Param #   \n",
      "=================================================================\n",
      "embedding_2 (Embedding)      (None, 128, 128)          12672     \n",
      "_________________________________________________________________\n",
      "cu_dnnlstm_1 (CuDNNLSTM)     (None, 128, 512)          1314816   \n",
      "_________________________________________________________________\n",
      "dropout_3 (Dropout)          (None, 128, 512)          0         \n",
      "_________________________________________________________________\n",
      "cu_dnnlstm_2 (CuDNNLSTM)     (None, 128, 128)          328704    \n",
      "_________________________________________________________________\n",
      "dropout_4 (Dropout)          (None, 128, 128)          0         \n",
      "_________________________________________________________________\n",
      "time_distributed_2 (TimeDist (None, 128, 99)           12771     \n",
      "_________________________________________________________________\n",
      "activation_2 (Activation)    (None, 128, 99)           0         \n",
      "=================================================================\n",
      "Total params: 1,668,963\n",
      "Trainable params: 1,668,963\n",
      "Non-trainable params: 0\n",
      "_________________________________________________________________\n"
     ]
    }
   ],
   "source": [
    "from keras.models import Sequential\n",
    "from keras.layers import *\n",
    "\n",
    "# 2 layer LSTM network with 512 and 128 channels\n",
    "model = Sequential([\n",
    "    Embedding(vocab_size, n_fac, input_length=maxlen),\n",
    "    CuDNNLSTM(512, input_shape=(n_fac,), return_sequences=True),\n",
    "    Dropout(0.0),\n",
    "    CuDNNLSTM(128, return_sequences=True),\n",
    "    Dropout(0.3),\n",
    "    TimeDistributed(Dense(vocab_size)),\n",
    "    Activation('softmax')\n",
    "])\n",
    "\n",
    "model.compile(loss='sparse_categorical_crossentropy', optimizer=Nadam(lr=1e-4), metrics=['acc'])\n",
    "model.summary()"
   ]
  },
  {
   "cell_type": "code",
   "execution_count": 14,
   "metadata": {},
   "outputs": [
    {
     "data": {
      "text/html": [
       "<a href='results/rvb-model.json' target='_blank'>results/rvb-model.json</a><br>"
      ],
      "text/plain": [
       "/home/ubuntu/fastai-notes/nbs/results/rvb-model.json"
      ]
     },
     "execution_count": 14,
     "metadata": {},
     "output_type": "execute_result"
    }
   ],
   "source": [
    "# save as JSON\n",
    "json_string = model.to_json()\n",
    "with open('results/rvb-model.json', 'w+') as f:\n",
    "    f.write(json_string)\n",
    "FileLink('results/rvb-model.json')"
   ]
  },
  {
   "cell_type": "raw",
   "metadata": {},
   "source": [
    "from keras.models import model_from_json\n",
    "\n",
    "with open('results/rvb-model.json', 'r') as f:\n",
    "    loaded = f.read()\n",
    "model = model_from_json(loaded)\n",
    "model.compile(loss='sparse_categorical_crossentropy', optimizer=Nadam(lr=1e-4), metrics=['acc'])\n",
    "model.load_weights('results/rvb-weights.hdf5')"
   ]
  },
  {
   "cell_type": "code",
   "execution_count": null,
   "metadata": {},
   "outputs": [],
   "source": [
    "from numpy.random import choice\n",
    "import random\n",
    "\n",
    "def print_example(length=1000, temp=0.8):\n",
    "    seed_len=maxlen\n",
    "    text = open(path).read().lower()[:152041] # only RvB section\n",
    "    ind = random.randint(0,len(text)-seed_len-1)\n",
    "    seed_string = text[ind:ind+seed_len]\n",
    "    for i in range(length):\n",
    "        x=np.array([char_indices[c] for c in seed_string[-seed_len:]])[np.newaxis,:]\n",
    "        preds = model.predict(x, verbose=0)[0][-1]\n",
    "        preds = np.log(preds) / temp\n",
    "        exp_preds = np.exp(preds)\n",
    "        preds = exp_preds / np.sum(exp_preds)\n",
    "        next_char = choice(chars, p=preds)\n",
    "        print(next_char, end=\"\")\n",
    "        seed_string = seed_string + next_char\n",
    "    #print(seed_string[seed_len:])"
   ]
  },
  {
   "cell_type": "code",
   "execution_count": null,
   "metadata": {},
   "outputs": [],
   "source": [
    "from keras.callbacks import *\n",
    "\n",
    "# see https://github.com/bckenstler/CLR\n",
    "class CyclicLR(Callback):\n",
    "    def __init__(self, base_lr=0.001, max_lr=0.006, step_size=2000., mode='triangular',\n",
    "                 gamma=1., scale_fn=None, scale_mode='cycle'):\n",
    "        super(CyclicLR, self).__init__()\n",
    "\n",
    "        self.base_lr = base_lr\n",
    "        self.max_lr = max_lr\n",
    "        self.step_size = step_size\n",
    "        self.mode = mode\n",
    "        self.gamma = gamma\n",
    "        if scale_fn == None:\n",
    "            if self.mode == 'triangular':\n",
    "                self.scale_fn = lambda x: 1.\n",
    "                self.scale_mode = 'cycle'\n",
    "            elif self.mode == 'triangular2':\n",
    "                self.scale_fn = lambda x: 1/(2.**(x-1))\n",
    "                self.scale_mode = 'cycle'\n",
    "            elif self.mode == 'exp_range':\n",
    "                self.scale_fn = lambda x: gamma**(x)\n",
    "                self.scale_mode = 'iterations'\n",
    "        else:\n",
    "            self.scale_fn = scale_fn\n",
    "            self.scale_mode = scale_mode\n",
    "        self.clr_iterations = 0.\n",
    "        self.trn_iterations = 0.\n",
    "        self.history = {}\n",
    "\n",
    "        self._reset()\n",
    "\n",
    "    def _reset(self, new_base_lr=None, new_max_lr=None,\n",
    "               new_step_size=None):\n",
    "        if new_base_lr != None:\n",
    "            self.base_lr = new_base_lr\n",
    "        if new_max_lr != None:\n",
    "            self.max_lr = new_max_lr\n",
    "        if new_step_size != None:\n",
    "            self.step_size = new_step_size\n",
    "        self.clr_iterations = 0.\n",
    "        \n",
    "    def clr(self):\n",
    "        cycle = np.floor(1+self.clr_iterations/(2*self.step_size))\n",
    "        x = np.abs(self.clr_iterations/self.step_size - 2*cycle + 1)\n",
    "        if self.scale_mode == 'cycle':\n",
    "            return self.base_lr + (self.max_lr-self.base_lr)*np.maximum(0, (1-x))*self.scale_fn(cycle)\n",
    "        else:\n",
    "            return self.base_lr + (self.max_lr-self.base_lr)*np.maximum(0, (1-x))*self.scale_fn(self.clr_iterations)\n",
    "        \n",
    "    def on_train_begin(self, logs={}):\n",
    "        logs = logs or {}\n",
    "\n",
    "        if self.clr_iterations == 0:\n",
    "            K.set_value(self.model.optimizer.lr, self.base_lr)\n",
    "        else:\n",
    "            K.set_value(self.model.optimizer.lr, self.clr())        \n",
    "            \n",
    "    def on_batch_end(self, epoch, logs=None):\n",
    "        logs = logs or {}\n",
    "        self.trn_iterations += 1\n",
    "        self.clr_iterations += 1\n",
    "        K.set_value(self.model.optimizer.lr, self.clr())\n",
    "\n",
    "        self.history.setdefault('lr', []).append(K.get_value(self.model.optimizer.lr))\n",
    "        self.history.setdefault('iterations', []).append(self.trn_iterations)\n",
    "\n",
    "        for k, v in logs.items():\n",
    "            self.history.setdefault(k, []).append(v)"
   ]
  },
  {
   "cell_type": "code",
   "execution_count": null,
   "metadata": {},
   "outputs": [],
   "source": [
    "from keras.callbacks import ModelCheckpoint, ReduceLROnPlateau, LambdaCallback\n",
    "import h5py, glob, os, shutil\n",
    "\n",
    "weight_dir = '/home/ubuntu/fastai-data/rvb/weights'\n",
    "weight_path = \"weights-{epoch:02d}.hdf5\"\n",
    "\n",
    "def print_callback(logs, epoch):\n",
    "    print_example()\n",
    "\n",
    "def copy_callback(logs, epoch):\n",
    "    files = glob.glob(weight_dir)\n",
    "    latest_file = max(list_of_files, key=os.path.getctime)\n",
    "    shutil.copy(latest_file, 'results/rvb-weights.hdf5')\n",
    "\n",
    "checkpoint = ModelCheckpoint(os.path.join(weight_dir, weight_path),\n",
    "                             monitor='acc', verbose=1, save_best_only=True, mode='max')\n",
    "reduce_lr = ReduceLROnPlateau(monitor='loss', factor=0.1,\n",
    "                              patience=1, min_lr=0.000001)\n",
    "printer = LambdaCallback(on_epoch_end=print_callback)\n",
    "clr = CyclicLR(base_lr=0.0002, max_lr=0.001, step_size=20000., mode='triangular')\n",
    "\n",
    "callbacks_list = [printer, checkpoint, reduce_lr, clr]"
   ]
  },
  {
   "cell_type": "code",
   "execution_count": null,
   "metadata": {
    "scrolled": false
   },
   "outputs": [],
   "source": [
    "num_epochs = 12\n",
    "#model.load_weights(os.path.join(weight_dir, 'weights-09.hdf5'))\n",
    "history = []\n",
    "history.append(model.fit(sentences,\n",
    "                    np.expand_dims(next_chars,-1),\n",
    "                    shuffle=True,\n",
    "                    batch_size=128,\n",
    "                    epochs=num_epochs,\n",
    "                    validation_split=0.15,\n",
    "                    callbacks=callbacks_list))"
   ]
  },
  {
   "cell_type": "markdown",
   "metadata": {},
   "source": [
    "- I like how it learns Spanish exclusively from Lopez's dialogue"
   ]
  },
  {
   "cell_type": "code",
   "execution_count": null,
   "metadata": {},
   "outputs": [],
   "source": [
    "print_example(length=20000)"
   ]
  }
 ],
 "metadata": {
  "anaconda-cloud": {},
  "kernelspec": {
   "display_name": "Python 3",
   "language": "python",
   "name": "python3"
  },
  "language_info": {
   "codemirror_mode": {
    "name": "ipython",
    "version": 3
   },
   "file_extension": ".py",
   "mimetype": "text/x-python",
   "name": "python",
   "nbconvert_exporter": "python",
   "pygments_lexer": "ipython3",
   "version": "3.5.2"
  }
 },
 "nbformat": 4,
 "nbformat_minor": 2
}
