{
 "cells": [
  {
   "cell_type": "markdown",
   "metadata": {},
   "source": [
    "<img src=\"https://s3.amazonaws.com/pokemontcg/xy7/54.png\" alt=\"Bulbasaur Pic\" style=\"width: 256px;\"/>\n",
    "\n",
    "# Pokemon TCG card generator\n",
    "\n",
    "- Downloads and saves card data from pokemontcg.io with python sdk, reformats it as YAML\n",
    "    - Actually, just use api directly because python sdk is out of date and parts are not compatible with each other\n",
    "- Uses keras lstm example to generate card data\n",
    "\n",
    "## Load card data"
   ]
  },
  {
   "cell_type": "code",
   "execution_count": null,
   "metadata": {},
   "outputs": [],
   "source": [
    "# imports\n",
    "import yaml, json, os, random, requests\n",
    "from pprint import pprint\n",
    "\n",
    "data_dir = '/home/ubuntu/fastai-data/pokemon'"
   ]
  },
  {
   "cell_type": "code",
   "execution_count": null,
   "metadata": {},
   "outputs": [],
   "source": [
    "# query pokemontcg api for every card\n",
    "cards_full = []\n",
    "for i in range(10):\n",
    "    response = requests.get('https://api.pokemontcg.io/v1/cards?page={}&pageSize=1000'.format(i+1))\n",
    "    current_cards = json.loads(response.content.decode('utf-8'))['cards']\n",
    "    cards_full.extend(current_cards)\n",
    "    if len(current_cards) < 1000:\n",
    "        print('-- Cards Loaded ---')\n",
    "        break\n",
    "pprint(cards_full[-1])"
   ]
  },
  {
   "cell_type": "code",
   "execution_count": null,
   "metadata": {},
   "outputs": [],
   "source": [
    "# get card data from pokemontcg.io\n",
    "keys = ['name', 'subtype', 'supertype', 'ability', 'ancient_trait', 'hp', 'evolvesFrom',\n",
    "        'retreat_cost', 'types', 'attacks', 'weaknesses', 'resistances', 'text']\n",
    "cards = [{key: card[key] if key in card else None for key in keys} for card in cards_full]"
   ]
  },
  {
   "cell_type": "code",
   "execution_count": null,
   "metadata": {},
   "outputs": [],
   "source": [
    "# save data\n",
    "class ExplicitDumper(yaml.SafeDumper):\n",
    "    def ignore_aliases(self, data):\n",
    "        return True\n",
    "    \n",
    "with open(os.path.join(data_dir, 'cards.yml'), 'w+') as f:\n",
    "     yaml.dump(cards, f, allow_unicode=True, Dumper=ExplicitDumper, default_flow_style=False)"
   ]
  },
  {
   "cell_type": "markdown",
   "metadata": {},
   "source": [
    "## Preprocessing\n",
    "\n",
    " - Convert json data to a text representation easy for a character-embedding based model to parse"
   ]
  },
  {
   "cell_type": "code",
   "execution_count": null,
   "metadata": {},
   "outputs": [],
   "source": [
    "# load data\n",
    "with open(os.path.join(data_dir, 'cards.yml')) as f:\n",
    "     card_data = yaml.load(f)\n",
    "pprint(cards[-1])"
   ]
  },
  {
   "cell_type": "code",
   "execution_count": null,
   "metadata": {},
   "outputs": [],
   "source": [
    "# augment data\n",
    "cards = random.sample(cards, len(cards))\n",
    "#for i in range(2):\n",
    "#    cards.extend(random.sample(cards, len(cards)))"
   ]
  },
  {
   "cell_type": "code",
   "execution_count": null,
   "metadata": {},
   "outputs": [],
   "source": [
    "# encode card categories as greek letters\n",
    "alphabet = 'θωερτψυιοπασφγηςκλζχξωβνμ'\n",
    "# encode type as a unicode character, following https://redd.it/4xvh2q\n",
    "type_char = '✴☽☽⛩❤✊♨☘☘⚡⛓⚛☔'\n",
    "\n",
    "types = json.loads(requests.get('https://api.pokemontcg.io/v1/types').content.decode('utf-8'))['types']\n",
    "types.insert(2, 'Dark')\n",
    "types.insert(7, 'Green')\n",
    "subtypes = json.loads(requests.get('https://api.pokemontcg.io/v1/subtypes').content.decode('utf-8'))['subtypes']"
   ]
  },
  {
   "cell_type": "code",
   "execution_count": null,
   "metadata": {},
   "outputs": [],
   "source": [
    "# encode type as unicode character\n",
    "def type_to_char(t_list):\n",
    "    if t_list and t_list[0] != 'Free':\n",
    "        return ''.join([type_char[types.index(t)] for t in t_list])\n",
    "    else:\n",
    "        return ''\n",
    "\n",
    "# convert list of lines to single text, and replaces name with @\n",
    "def singlify(text, name=None):\n",
    "    if text:\n",
    "        text = ''.join(text) if isinstance(text, list) else text\n",
    "        if name:\n",
    "            text = text.replace(name, '@')\n",
    "        return text\n",
    "    else:\n",
    "        return ''\n",
    "\n",
    "# write data as txt file\n",
    "with open(os.path.join(data_dir,'cards.txt'), 'w+') as f:\n",
    "    for card in cards:\n",
    "        lines = ['\\n']\n",
    "        lines.append('|'.join([card['supertype'][0],\n",
    "                alphabet[subtypes.index(card['subtype'])] if card['subtype'] else '',\n",
    "                type_to_char(card['types']),\n",
    "                type_char[types.index(card['weaknesses'][0]['type'])] \\\n",
    "                    + ('^'*int(card['weaknesses'][0]['value'][1]) if '0' in card['weaknesses'][0]['value'] else 'x')\\\n",
    "                    if card['weaknesses'] else '',     \n",
    "                type_char[types.index(card['resistances'][0]['type'])] \\\n",
    "                    + ('^'*int(card['resistances'][0]['value'][1]) if '0' in card['resistances'][0]['value'] else 'x')\\\n",
    "                    if card['resistances'] else '',     \n",
    "                '^'*(int(card['hp'])//10) if card['hp'] and card['hp'].isdigit() else '',\n",
    "                type_to_char(card['retreat_cost']),\n",
    "                singlify(card['name']), singlify(card['evolvesFrom']), singlify(card['text'],name=card['name'])]))\n",
    "        if card['ability']:\n",
    "            lines.append(\n",
    "                '|'.join(['x', card['ability']['name'],\n",
    "                          singlify(card['ability']['text'], name=card['name'])]))\n",
    "        if card['ancient_trait']:\n",
    "            lines.append(\n",
    "                '|'.join(['y', card['ancient_trait']['name'],\n",
    "                          singlify(card['ancient_trait']['text'], name=card['name'])]))\n",
    "        if card['attacks'] and card['attacks']:\n",
    "            for attack in card['attacks']:\n",
    "                lines.append(\n",
    "                    '|'.join(['z', type_to_char(attack['cost']) if 'cost' in attack else '',\n",
    "                              str(attack['damage']), singlify(attack['name']),\n",
    "                              singlify(attack['text'], name=card['name'])]))\n",
    "        if 'マ' not in ''.join(lines): # no japanese cards\n",
    "            for line in lines:\n",
    "                f.write(line+'\\n')\n",
    "            "
   ]
  },
  {
   "cell_type": "markdown",
   "metadata": {},
   "source": [
    "## Create Model"
   ]
  },
  {
   "cell_type": "markdown",
   "metadata": {},
   "source": [
    " - Turn text into embedded sequences that keras can use\n",
    " - Setup model architecture"
   ]
  },
  {
   "cell_type": "code",
   "execution_count": null,
   "metadata": {},
   "outputs": [],
   "source": [
    "# imports\n",
    "from keras.models import Sequential\n",
    "from keras.layers import *\n",
    "from keras.optimizers import Adam\n",
    "import numpy as np"
   ]
  },
  {
   "cell_type": "code",
   "execution_count": null,
   "metadata": {},
   "outputs": [],
   "source": [
    "# load text\n",
    "path = os.path.join(data_dir,'cards.txt')\n",
    "text = open(path).read()[:]\n",
    "\n",
    "print('corpus length:', len(text))\n",
    "print(text[:128])"
   ]
  },
  {
   "cell_type": "code",
   "execution_count": null,
   "metadata": {},
   "outputs": [],
   "source": [
    "# get characters used in text\n",
    "chars = sorted(list(set(text)))\n",
    "vocab_size = len(chars)\n",
    "\n",
    "print('total chars:', vocab_size)\n",
    "print(''.join(chars))"
   ]
  },
  {
   "cell_type": "code",
   "execution_count": null,
   "metadata": {},
   "outputs": [],
   "source": [
    "# create character indices\n",
    "char_indices = dict((c, i) for i, c in enumerate(chars))\n",
    "# turn text into char indices\n",
    "idx = [char_indices[c] for c in text]"
   ]
  },
  {
   "cell_type": "code",
   "execution_count": null,
   "metadata": {},
   "outputs": [],
   "source": [
    "maxlen = 128\n",
    "sentences = []\n",
    "next_chars = []\n",
    "for i in range(len(idx)-maxlen+1):\n",
    "    sentences.append(idx[i: i + maxlen])\n",
    "    next_chars.append(idx[i+1: i+maxlen+1])"
   ]
  },
  {
   "cell_type": "code",
   "execution_count": null,
   "metadata": {},
   "outputs": [],
   "source": [
    "print('# of sequences:', len(sentences))\n",
    "\n",
    "sentences = np.concatenate([[np.array(o)] for o in sentences[:-2]])\n",
    "next_chars = np.concatenate([[np.array(o)] for o in next_chars[:-2]])"
   ]
  },
  {
   "cell_type": "code",
   "execution_count": null,
   "metadata": {},
   "outputs": [],
   "source": [
    "# size of embedding\n",
    "n_fac = 50"
   ]
  },
  {
   "cell_type": "code",
   "execution_count": null,
   "metadata": {},
   "outputs": [],
   "source": [
    "# model architecture\n",
    "model=Sequential([\n",
    "        Embedding(vocab_size, n_fac, input_length=maxlen),\n",
    "        GRU(256, input_shape=(n_fac,),return_sequences=True, dropout=0.01, recurrent_dropout=0.01),\n",
    "        Dropout(0.1),\n",
    "        GRU(512, return_sequences=True, dropout=0.01, recurrent_dropout=0.01),\n",
    "        Dropout(0),\n",
    "        TimeDistributed(Dense(vocab_size)),\n",
    "        Activation('softmax')\n",
    "    ])\n",
    "model.compile(loss='sparse_categorical_crossentropy', optimizer=Adam(lr=0.01), metrics=['acc'])\n",
    "model.summary()"
   ]
  },
  {
   "cell_type": "markdown",
   "metadata": {},
   "source": [
    "## Train Model"
   ]
  },
  {
   "cell_type": "code",
   "execution_count": null,
   "metadata": {},
   "outputs": [],
   "source": [
    "from numpy.random import choice\n",
    "import random\n",
    "\n",
    "# print example text, \n",
    "def print_example(length=800, temperature=0.7, mult=2):\n",
    "    seed_len=maxlen\n",
    "    path = os.path.join(data_dir,'cards.txt')\n",
    "    text = open(path).read()[:]\n",
    "    ind = random.randint(0,len(text)-seed_len-1)\n",
    "    seed_string = text[ind:ind+seed_len]\n",
    "    \n",
    "    for i in range(length):\n",
    "        if (seed_string.split('\\n')[-1].count('|') == 7 or\n",
    "        seed_string.startswith(('x','y')) and seed_string.split('\\n')[-1].count('|') == 1 or\n",
    "        seed_string.startswith('z') and seed_string.split('\\n')[-1].count('|') == 3):\n",
    "            temp = temperature * mult # make names more creative\n",
    "        else:\n",
    "            temp = temperature\n",
    "        \n",
    "        x=np.array([char_indices[c] for c in seed_string[-40:]])[np.newaxis,:]\n",
    "        preds = model.predict(x, verbose=0)[0][-1]\n",
    "        preds = np.log(preds) / temp\n",
    "        exp_preds = np.exp(preds)\n",
    "        preds = exp_preds / np.sum(exp_preds)\n",
    "        next_char = choice(chars, p=preds)\n",
    "        print(next_char, end=\"\")\n",
    "        seed_string = seed_string + next_char\n",
    "    \n",
    "    #print(seed_string[seed_len:])"
   ]
  },
  {
   "cell_type": "code",
   "execution_count": null,
   "metadata": {},
   "outputs": [],
   "source": [
    "from keras.callbacks import ModelCheckpoint, ReduceLROnPlateau, LambdaCallback\n",
    "import h5py\n",
    "\n",
    "def print_callback(logs, epoch):\n",
    "    print_example()\n",
    "\n",
    "result_dir = os.path.join(data_dir, 'results')\n",
    "weight_path = \"weights-{epoch:02d}.hdf5\"\n",
    "checkpoint = ModelCheckpoint(os.path.join(result_dir, weight_path),\n",
    "                             monitor='acc', verbose=1, save_best_only=True, mode='max')\n",
    "reduce_lr = ReduceLROnPlateau(monitor='loss', factor=0.1,\n",
    "                              patience=2, min_lr=0.00000001)\n",
    "printer = LambdaCallback(on_epoch_end=print_callback)\n",
    "\n",
    "callbacks_list = [printer, checkpoint, reduce_lr]"
   ]
  },
  {
   "cell_type": "code",
   "execution_count": null,
   "metadata": {},
   "outputs": [],
   "source": [
    "num_epochs = 12\n",
    "history = model.fit(sentences,\n",
    "                    np.expand_dims(next_chars,-1),\n",
    "                    batch_size=256,\n",
    "                    epochs=num_epochs,\n",
    "                    callbacks=callbacks_list)"
   ]
  },
  {
   "cell_type": "code",
   "execution_count": null,
   "metadata": {},
   "outputs": [],
   "source": [
    "from contextlib import redirect_stdout\n",
    "\n",
    "with open(os.path.join(data_dir,'cards_generated.txt'), 'w+') as f:\n",
    "    with redirect_stdout(f):\n",
    "        print_example(length=500000, temperature=0.9, mult=2)"
   ]
  },
  {
   "cell_type": "markdown",
   "metadata": {},
   "source": [
    "## Process Output\n",
    "\n",
    " - At this point I redid the prior stuff with a premade tensorflow char-rnn model, to see if it was any better. I didn't feel as if there were significant improvements but it did run considerably faster.\n",
    " - Decode generated text back into JSON format\n",
    " - Convert JSON format to card images"
   ]
  },
  {
   "cell_type": "markdown",
   "metadata": {},
   "source": [
    "Run in terminal, in tensorflow-char-rnn directory, with python 3.6:\n",
    "\n",
    "python train.py --data_file=/home/ubuntu/fastai-data/pokemon/cards.txt --output_dir=/home/ubuntu/fastai-data/pokemon/results_tf --embedding_size=30 --model=lstm --hidden_size=256 --num_layers=3 --batch_size=96 --learning_rate=0.001 --num_epochs=120\n",
    "\n",
    "and in a seperate tmux pane:\n",
    "\n",
    "tensorboard --logdir=/home/ubuntu/fastai-data/pokemon/results_tf/tensorboard_log --port=6006\n",
    "\n",
    "Afterwards, run:\n",
    "\n",
    "python sample.py --init_dir=/home/ubuntu/fastai-data/pokemon/results_tf --start_text=\"P|j|R|g|fx||^^^^^^^^^^|cc|Breloom|\" --length=500000 --seed=4745 --temperature=0.7 | tee /home/ubuntu/fastai-data/pokemon/cards_generated_tf2.txt"
   ]
  },
  {
   "cell_type": "code",
   "execution_count": null,
   "metadata": {},
   "outputs": [],
   "source": [
    "# encode card categories as greek letters\n",
    "alphabet = 'θωερτψυιοπασφγηςκλζχξωβνμ'\n",
    "# encode type as a unicode character, following https://redd.it/4xvh2q\n",
    "type_char = '✴☽⛩❤✊♨☘⚡⛓⚛☔'\n",
    "\n",
    "# get types, subtypes, supertypes\n",
    "types = json.loads(requests.get('https://api.pokemontcg.io/v1/types').content.decode('utf-8'))['types']\n",
    "subtypes = json.loads(requests.get('https://api.pokemontcg.io/v1/subtypes').content.decode('utf-8'))['subtypes']\n",
    "supertypes = json.loads(requests.get('https://api.pokemontcg.io/v1/supertypes').content.decode('utf-8'))['supertypes']\n",
    "\n",
    "# get existing card names to ensure all generated cards use new names\n",
    "with open(os.path.join(data_dir,'cards.yml')) as f:\n",
    "     old_names = [card['name'] for card in yaml.load(f)]"
   ]
  },
  {
   "cell_type": "code",
   "execution_count": null,
   "metadata": {},
   "outputs": [],
   "source": [
    "# decode type from unicode character\n",
    "def char_to_type(chars):\n",
    "    if chars and len(chars) > 0:\n",
    "        return [types[type_char.index(char)] for char in chars]\n",
    "    else:\n",
    "        return None\n",
    "\n",
    "cards = []\n",
    "card = None\n",
    "with open(os.path.join(data_dir,'cards_generated.txt')) as f:\n",
    "    for line in f:\n",
    "        line = line.split('|')\n",
    "        if line[0] in ('P','E','T'):\n",
    "            if card and card['name'].rstrip() not in old_names:\n",
    "                cards.append(card)\n",
    "            try:\n",
    "                card = {'supertype': supertypes[('P','E','T').index(line[0])],\n",
    "                        'subtype': subtypes[alphabet.index(line[1])] if line[1] else None,\n",
    "                        'types': char_to_type(line[2]),\n",
    "                        'weaknesses':\n",
    "                        {'type': types[type_char.index(line[3][0])],\n",
    "                         'value': '×2' if line[4][1] == 'x' else '-'+str(len(line[4])-1)+'0'} if line[4] else None,\n",
    "                        'resistances':\n",
    "                        {'type': types[type_char.index(line[4][0])],\n",
    "                         'value': '×2' if line[5][1] == 'x' else '-'+str(len(line[5])-1)+'0'} if line[5] else None,\n",
    "                        'hp': len(line[5])*10 if line[6] else None,\n",
    "                        'retreat_cost': char_to_type(line[6]),\n",
    "                        'name': line[7].rstrip(),\n",
    "                        'evolvesFrom': line[8].rstrip(),\n",
    "                        'text': line[9].replace('@',line[8]).rstrip() if len(line) > 9 else None}\n",
    "            except:\n",
    "                card = None\n",
    "                print('Skipped card')\n",
    "        elif line[0] == 'x' and card and card['supertype'] == 'Pokémon':\n",
    "            try:\n",
    "                card['ability'] = {'name':line[1].rstrip(),\n",
    "                                   'text':line[2].replace('@',card['name']).rstrip() if len(line) > 2 else None}\n",
    "            except:\n",
    "                print('Skipped ability')\n",
    "        elif line[0] == 'y' and card and card['supertype'] == 'Pokémon':\n",
    "            try:\n",
    "                card['ancient_trait'] = {'name':line[1].rstrip(),\n",
    "                                         'text':line[2].replace('@',card['name']).rstrip() if len(line) > 2 else None}\n",
    "            except:\n",
    "                print('Skipped trait')\n",
    "        elif line[0] == 'z' and card and card['supertype'] == 'Pokémon':\n",
    "            try:\n",
    "                card.setdefault('attacks', []).append(\n",
    "                    {'cost': char_to_type(line[1]),\n",
    "                     'damage': line[2],\n",
    "                     'name': line[3].rstrip(),\n",
    "                     'text': line[4].replace('@',card['name']).rstrip() if len(line) > 4 else None})\n",
    "            except:\n",
    "                print('Skipped attack')\n",
    "                                     "
   ]
  },
  {
   "cell_type": "code",
   "execution_count": null,
   "metadata": {},
   "outputs": [],
   "source": [
    "class ExplicitDumper(yaml.SafeDumper):\n",
    "    def ignore_aliases(self, data):\n",
    "        return True\n",
    "    \n",
    "with open('cards_generated.yml', 'w+') as f:\n",
    "     yaml.dump(cards, f, allow_unicode=True, Dumper=ExplicitDumper, default_flow_style=False)"
   ]
  },
  {
   "cell_type": "markdown",
   "metadata": {},
   "source": [
    "from IPython.display import FileLink\n",
    "FileLink('cards_generated.yml')"
   ]
  },
  {
   "cell_type": "markdown",
   "metadata": {},
   "source": [
    "## Create Card Mockups\n",
    "\n",
    "1. Put [Basic](https://paulsnoops.deviantart.com/art/BWXY-Basic-Pokemon-blanks-734x1024-601940663) and [Trainer & Energy](https://paulsnoops.deviantart.com/art/BWXY-Trainer-and-Energy-blanks-734x1024-601953321) templates in template_path, in appropriate hierarchy.\n",
    "    - For pokemon, first have folder with supertype name, then folders with subtype name underneath, then images with name {type}.png\n",
    "    - For trainers and energy, first have folder with supertype name, then images with name {subtype}.png\n",
    "    - If subtype has space replace with underscore\n",
    "2. Put [symbols.png](https://paulsnoops.deviantart.com/art/BWXY-Symbol-Sheet-601935489) and [holosheet.png](https://aschefield101.deviantart.com/art/XY-HoloSheet-Japanese-417932199) under template_path\n",
    "2. Put [font collection](http://www.pokebeach.com/forums/threads/faking-resources-and-help-designing-original-tcg-cards.128741/) in fonts folder under template_path\n",
    "    - Rename fonts in abbreviated form, as shown in code below"
   ]
  },
  {
   "cell_type": "code",
   "execution_count": null,
   "metadata": {},
   "outputs": [],
   "source": [
    "from PIL import Image, ImageDraw, ImageFont\n",
    "import os, textwrap\n",
    "\n",
    "data_dir = '/home/ubuntu/fastai-data/pokemon'\n",
    "template_path = os.path.join(data_dir, 'templates')\n",
    "font_path = os.path.join(template_path, 'fonts')\n",
    "save_path = os.path.join(data_dir, 'card_results')"
   ]
  },
  {
   "cell_type": "code",
   "execution_count": null,
   "metadata": {},
   "outputs": [],
   "source": [
    "import yaml, pprint, re, unidecode\n",
    "\n",
    "with open('cards_generated.yml') as f:\n",
    "     cards = yaml.load(f)"
   ]
  },
  {
   "cell_type": "code",
   "execution_count": null,
   "metadata": {},
   "outputs": [],
   "source": [
    "def get_energy_img(energy, category):\n",
    "    energies = ['Grass', 'Fire', 'Water', 'Electric', 'Psychic', 'Fighting',\n",
    "                'Dark', 'Metal', 'Fairy', 'Dragon', 'Colorless']\n",
    "    full_img = Image.open(os.path.join(template_path,'symbols.png'))\n",
    "    if category is 'attack':\n",
    "        img = full_img.crop((46+energies.index(energy)*57, 85, 85+energies.index(energy)*57, 135))\n",
    "    if category is 'weakness':\n",
    "        img = full_img.crop((50+energies.index(energy)*57, 210, 80+energies.index(energy)*57, 250))\n",
    "    return img\n",
    "\n",
    "def gen_card_img(card):\n",
    "    if card['supertype'] == 'Pokémon':\n",
    "        img = Image.open(os.path.join(template_path,\n",
    "                         'Pokémon', card['subtype'].replace(' ', '_'),\n",
    "                         card['types'][0]+'.png'))\n",
    "        \n",
    "        d = ImageDraw.Draw(img)\n",
    "        \n",
    "        f = ImageFont.truetype(font=os.path.join(font_path,'gill-rb.ttf'), size=48)\n",
    "        d.text((180,36), card['name'], font=f, fill='black')\n",
    "\n",
    "        f = ImageFont.truetype(font=os.path.join(font_path,'gill-rb.ttf'), size=18)\n",
    "        d.text((556, 68), 'HP', font=f, fill='black')\n",
    "\n",
    "        f = ImageFont.truetype(font=os.path.join(font_path,'futura-cb.ttf'), size=44)\n",
    "        d.text((582, 42), str(card['hp']), font=f, fill='black')\n",
    "        \n",
    "        f = ImageFont.truetype(font=os.path.join(font_path,'futura-cb.ttf'), size=30)\n",
    "        if card['weaknesses']:\n",
    "            energy_img = get_energy_img(card['weaknesses']['type'], 'weakness')\n",
    "            img.paste(energy_img, (65, 888), energy_img)\n",
    "            d.text((100, 890), card['weaknesses']['value'], font=f, fill='black')\n",
    "        if card['resistances']:\n",
    "            energy_img = get_energy_img(card['resistances']['type'], 'weakness')\n",
    "            img.paste(energy_img, (195, 888), energy_img)\n",
    "            d.text((230, 890), card['resistances']['value'], font=f, fill='black')\n",
    "        \n",
    "        full_img = Image.open('symbols.png')\n",
    "        retreat_img = full_img.crop((517, 433, 517+32*len(card['retreat_cost']),463))\n",
    "        img.paste(retreat_img, (150, 938), retreat_img)\n",
    "\n",
    "        start_height = 560\n",
    "        if 'ability' in card:\n",
    "            ability = card['ability']\n",
    "            \n",
    "            ability_img = full_img.crop((50, 433, 212, 475))\n",
    "            img.paste(ability_img, (60, start_height+5), ability_img)\n",
    "            \n",
    "            f = ImageFont.truetype(font=os.path.join(font_path,'gill-cb.ttf'), size=44)\n",
    "            d.text((240, start_height), ability['name'], font=f, fill='#c23600')\n",
    "            \n",
    "            f = ImageFont.truetype(font=os.path.join(font_path,'gill-rp.ttf'), size=30)\n",
    "            d.multiline_text((60, start_height+54), textwrap.fill(ability['text'], width=48), font=f, fill='black')\n",
    "            \n",
    "            start_height += 80 + d.multiline_textsize(textwrap.fill(ability['text'], width=48), font=f)[1]\n",
    "        if 'attacks' in card:\n",
    "            for attack in card['attacks']:\n",
    "                if start_height >= 760:\n",
    "                    break\n",
    "                \n",
    "                for n in range(len(attack['cost'])):\n",
    "                    energy_img = get_energy_img(attack['cost'][n],'attack')\n",
    "                    img.paste(energy_img, (60+n*45, start_height), energy_img)\n",
    "                \n",
    "                f = ImageFont.truetype(font=os.path.join(font_path,'gill-cb.ttf'), size=44)\n",
    "                d.text((115+n*45, start_height), attack['name'], font=f, fill='black')\n",
    "\n",
    "                f = ImageFont.truetype(font=os.path.join(font_path,'futura-cb.ttf'), size=44)\n",
    "                d.text((612, start_height), attack['damage'], font=f, fill='black')\n",
    "\n",
    "                f = ImageFont.truetype(font=os.path.join(font_path,'gill-rp.ttf'), size=30)\n",
    "                d.multiline_text((60, start_height+54), textwrap.fill(attack['text'], width=48), font=f, fill='black')\n",
    "\n",
    "                start_height += 80 + d.multiline_textsize(textwrap.fill(attack['text'], width=48), font=f)[1]\n",
    "        \n",
    "    elif card['supertype'] == 'Trainer':\n",
    "        img = Image.open(os.path.join(template_path,\n",
    "            card['supertype'], (card['subtype'].replace(' ','_') if card['subtype'] else 'Supporter')+'.png'))\n",
    "        d = ImageDraw.Draw(img)\n",
    "        \n",
    "        f = ImageFont.truetype(font=os.path.join(font_path,'gill-rb.ttf'), size=44)\n",
    "        d.text((85,105), card['name'], font=f, fill='black')\n",
    "        \n",
    "        f = ImageFont.truetype(font=os.path.join(font_path,'gill-rp.ttf'), size=30)\n",
    "        d.multiline_text((95, 570), textwrap.fill(card['text'] if card['text'] else '', width=42), font=f,fill='black')\n",
    "    else:\n",
    "        img = Image.open(os.path.join(template_path,\n",
    "            card['supertype'], (card['subtype'].replace(' ','_') if card['subtype'] else 'Special')+'.png'))\n",
    "        d = ImageDraw.Draw(img)\n",
    "        \n",
    "        f = ImageFont.truetype(font=os.path.join(font_path,'gill-rb.ttf'), size=30)\n",
    "        d.text((80,100), 'Special Energy', font=f, fill='black')\n",
    "        \n",
    "        f = ImageFont.truetype(font=os.path.join(font_path,'gill-rb.ttf'), size=40)\n",
    "        d.text((60,655), card['name'], font=f, fill='black')\n",
    "        \n",
    "        f = ImageFont.truetype(font=os.path.join(font_path,'gill-rp.ttf'), size=30)\n",
    "        d.multiline_text((60, 720), textwrap.fill(card['text'], width=48), font=f, fill='black')\n",
    "    \n",
    "    img.thumbnail((590,590))\n",
    "    background = Image.open(os.path.join(template_path,'holosheet.jpg'))\n",
    "    background.paste(img, (0, 0), img)\n",
    "    img = background\n",
    "\n",
    "    return img"
   ]
  },
  {
   "cell_type": "code",
   "execution_count": null,
   "metadata": {},
   "outputs": [],
   "source": [
    "# turns string into filename\n",
    "def slugify(value):\n",
    "    value = unidecode.unidecode(value)\n",
    "    value = str(re.sub('[^\\w\\s-]', '', value).strip())\n",
    "    value = str(re.sub('[-\\s]+', '-', value))\n",
    "    return value"
   ]
  },
  {
   "cell_type": "code",
   "execution_count": null,
   "metadata": {},
   "outputs": [],
   "source": [
    "for card in cards:\n",
    "    try:\n",
    "        print(card['name'])\n",
    "        img = gen_card_img(card)\n",
    "        img.save(os.path.join(save_path, slugify(card['name'])+'.jpg'))\n",
    "    except:\n",
    "        print('skipped a card')"
   ]
  },
  {
   "cell_type": "markdown",
   "metadata": {},
   "source": [
    "from matplotlib.pyplot import imshow\n",
    "import numpy as np\n",
    "\n",
    "%matplotlib inline\n",
    "for card in card_data[:5]:\n",
    "    imshow(np.asarray(gen_card_img(card)))"
   ]
  }
 ],
 "metadata": {
  "kernelspec": {
   "display_name": "Python 3",
   "language": "python",
   "name": "python3"
  },
  "language_info": {
   "codemirror_mode": {
    "name": "ipython",
    "version": 3
   },
   "file_extension": ".py",
   "mimetype": "text/x-python",
   "name": "python",
   "nbconvert_exporter": "python",
   "pygments_lexer": "ipython3",
   "version": "3.5.2"
  }
 },
 "nbformat": 4,
 "nbformat_minor": 2
}
